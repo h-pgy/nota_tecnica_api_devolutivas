{
 "cells": [
  {
   "cell_type": "markdown",
   "id": "e095e722-4004-454a-923d-67c4727bebe9",
   "metadata": {},
   "source": [
    "# Nota Técnica: API e dados abertos do Portal de Devolutivas do Programa de Metas 2021-2024"
   ]
  },
  {
   "cell_type": "markdown",
   "id": "8f9c1e6e-e1b0-4803-b3e6-595361a402fd",
   "metadata": {},
   "source": [
    "## Resumo\n",
    "\n",
    "Essa nota técnica tem por objetivo apresentar a <i> Interface de Programação de Aplicativos </i>  (API) do Portal de Devolutivas do Programa de Metas 2021-2024 da Prefeitura Municipal de São Paulo (https://devolutiva.pdm.prefeitura.sp.gov.br/).\n",
    "    \n",
    "Ela se divide em duas partes: \n",
    "\n",
    "1. Na primeira parte, descrevemos o processo e a metodologia de sistematização das devolutivas elaboradas pela Prefeitura de São Paulo para as sugestões enviadas pela sociedade civil durante a etapa participativa do Programa de Metas 2021-2024. Em seguida, apresentamos em detalhes os dados constantes no banco de dados do Portal de Devolutivas (o <i> dicionário de variáveis </i>), e a maneira como eles se relacionam (o <i> diagrama de entidades e relacionamentos </i>).\n",
    "2. Na segunda parte, descrevemos, de forma didática, o que é uma API e qual a motivação para se desenvolver uma. Em seguida, na forma de um tutorial, apresentamos trechos de código fonte em <i> python </i> que podem ser utilizados para consumir a API do Portal de Devolutivas. Com base nestes códigos, finalizamos o relatório desenvolvendo um exemplo de aplicação de análise de dados que pode ser feita a partir da API do Portal de Devolutivas.\n",
    "\n",
    "Com isso, esperamos que, ao final da leitura, uma pessoa que possui conhecimentos básicos de programação possa se apropriar da API do Portal de Devolutivas e compreender bem os dados que ela disponibiliza. Assim, ela terá autonomia para desenvolver suas próprias análises e aplicações.\n",
    "\n",
    "Assim, a segunda parte está dirigida a uma leitora ou leitor com perfil mais técnico. Já a primeira parte é voltada a qualquer pessoa que deseje conhecer melhor como foi o processo de sistematização e elaboração do Portal de Devolutivas."
   ]
  },
  {
   "cell_type": "markdown",
   "id": "f59fae80-7b3f-4611-b0a0-02629f9dabd5",
   "metadata": {},
   "source": [
    "## Parte I.\n",
    "\n",
    "### Introdução: o Portal\n",
    "\n",
    "\n",
    "Desenvolvido em conjunto pela Secretaria Executiva de Planejamento e Entregas Prioritárias da Secretaria de Governo (SEPEP/SGM) e pela Secretaria Municipal de Inovação e Tecnologia (SMIT), o Portal de Devolutivas é um sistema web que tem por objetivo realizar a devolutiva, da parte da Prefeitura de São Paulo, às contribuições enviadas pelos munícipes durante a etapa participativa do Programa de Metas 2021-2024.\n",
    "\n",
    "O Portal de Devolutivas agrega todas as contribuições recebidas pelos diversos canais de partipação abertos à população pela SEPEP durante os meses de abril e maio de 2021.\n",
    "    \n",
    "Nele, podem ser consultadas as sugestões enviadas por munícipes e/ou organizações da sociedade civil:\n",
    "\n",
    "* por meio da Plataforma [Participe+](https://participemais.prefeitura.sp.gov.br/legislation/processes/116/);\n",
    "* durante as audiências públicas gerais, regionais e temáticas realizadas pela SEPEP;\n",
    "* por meio do envio de e-mails, ofícios e demais documentos à Prefeitura;\n",
    "\n",
    "O Portal possui uma interface simples e intuitiva, e é a via recomendada para todos os munícipes que não possuem familiaridade com técnicas de análise de dados ou de programação e que querem consultar as devolutivas elaboradas pela Prefeitura. \n",
    "\n",
    "Ali, um munícipe pode procurar por seu próprio nome para verificar as respostas da Prefeitura às contribuições que enviou durante a etapa participativa do Programa de Metas. Ou uma pessoa pode fazer pesquisas mais detalhadas sobre assuntos de seu interesse. Por exemplo, ela pode listar todas as sugestões de ações enviadas para uma dada Subprefeitura ou para um determinado tema (por exemplo, \"Meio Ambiente\").\n",
    "\n",
    "O .gif abaixo mostra como é simples fazer essas pesquisas:\n"
   ]
  },
  {
   "cell_type": "markdown",
   "id": "965f07d7-2f27-4cbc-84fb-33577e005cae",
   "metadata": {},
   "source": [
    "#### Busca Portal Devolutivas\n",
    "\n",
    "![Gif mostrando o procedimento de busca na interface do Portal de Devolutivas](busca_portal_devolutivas.gif \"Busca Devolutivas\")"
   ]
  },
  {
   "cell_type": "markdown",
   "id": "881e491e-45c0-4933-ad60-b21b6acaebe9",
   "metadata": {},
   "source": [
    "Para pessoas mais técnicas, que possuem habilidades em análise de dados e programação, disponibilizamos também uma API.\n",
    "\n",
    "Uma API pública é uma importante ferramenta de transparência, pois permite não apenas o acesso aos dados disponíveis no Portal, como também o desenvolvimento de aplicações e análises sobre os mesmos.\n",
    "\n",
    "Nossa API possui documentação interativa no padrão OpenAPI 3.0, que pode ser acessada no seguinte link:\n",
    "\n",
    "https://devolutiva.pdm.prefeitura.sp.gov.br/api/docs/\n",
    "\n",
    "O .gif abaixo mostra um exemplo de exploração que se pode fazer por meio dessa documentação interativa:"
   ]
  },
  {
   "cell_type": "markdown",
   "id": "19801b3d-7e29-4856-9373-81444c9d0340",
   "metadata": {},
   "source": [
    "![Gif mostrando uma exploração na documentação da API do Portal de Devolutivas](documentacao_api.gif \"Exploração Documentação API\")"
   ]
  },
  {
   "cell_type": "markdown",
   "id": "4257f804-eeb0-4004-a8ba-8d187529cb8f",
   "metadata": {},
   "source": [
    "Como se pode ver, se trata de uma interface de caráter mais técnico.\n",
    "\n",
    "Com efeito, a primeira parte desse relatório é voltada para todos que desejam compreender melhor qual foi a metodologia de sistematização das sugestoes recebidas na etapa participativa do Programa de Metas 2021-2024, e como foi realizado o processo de elaboração das devolutivas.\n",
    "\n",
    "Já a segunda parte tem caráter mais técnico, e é voltada a todos aqueles que possuem conhecimentos básicos de programação e análise de dados, e desejam se apropriar da API do Portal de Devolutivas. É também um interessante recurso didático para aqueles que desejam compreender melhor o que é uma API e quais as motivações para se desenvolver uma.\n",
    "\n",
    "A seguir, iniciaremos a descrição do processo de sistematização das contribuições recebidas e dos dados constantes no Portal de Devolutivas."
   ]
  },
  {
   "cell_type": "markdown",
   "id": "140b1341-aec1-4435-809b-6a598e58abe1",
   "metadata": {},
   "source": [
    "### O processo de sistematização\n",
    "\n",
    "Todas as contribuições recebidas pela Prefeitura foram sistematizadas pela equipe da SEPEP, inclusive as falas realizadas nas audiências públicas virtuais, que foram devidamente transcritas. \n",
    "\n",
    "A equipe da SEPEP analisou as contribuições e identificou as sugestões nelas contidas. Isso é necessário pois uma mesma fala pode ter mais de uma sugestão (detalharemos esse ponto posteriormente). Em seguida, a equipe regionalizou as sugestões a nível de Subprefeitura e as categorizou em temas gerais (por exemplo, \"Meio Ambiente\"). Por fim, SEPEP identificou  a Secretaria Municipal responsável e encaminhou a cada órgão as sugestões a ele vinculadas.\n",
    "    \n",
    "As secretarias responsáveis analisaram as sugestões recebidas e identificaram as temáticas de que elas tratam. Para cada tema identificado (por exemplo, \"Manutenção e gestão dos parques\") foi elaborada uma resposta ao munícipe - ou devolutiva - da parte da Secretaria. \n",
    "\n",
    "SEPEP então sistematizou todas as devolutivas elaboradas, gerando uma base de dados que vincula, para cada contribuição enviada por um munícipe ou organização da sociedade civil, todas as sugestões nela contidas e, para cada sugestão, a devolutiva enviada pela Secretaria responsável. \n",
    "    \n",
    "O diagrama abaixo registra como foi realizado esse processo. Nele, cada \"raia\" (os três grandes retângulos) representa um ator diferente, nomeadamente os \"Munícipes e/ou organizações da sociedade civil\", a equipe de \"SEPEP\" e as equipes das \"Secretarias Responsáveis\". Cada \"caixa\" representa uma ação realizada pelo ator que corresponde à raia onde ela está. Por exemplo a ação \"Regionalização\" foi realizada pelo ator \"SEPEP\". As setas indicam a sucessão das ações. Ações paralelas são indicadas por setas que partem de uma mesma ação (por exemplo os envios de contribuições no início do processo). E o círculo representa o ponto de início do processo."
   ]
  },
  {
   "cell_type": "markdown",
   "id": "e3f8a39d-9681-4c7a-aacf-43751b275676",
   "metadata": {},
   "source": [
    "#### BPMN - processo sistematização devolutivas\n",
    "\n",
    "![Diagrama representando o processo de recebimento, análise e disponibilização das devolutivas às participações do PDM 21-24](processo-devolutivas.png \"Processo Devolutivas\")"
   ]
  },
  {
   "cell_type": "markdown",
   "id": "40008a26-5183-42f6-b415-96b3950291b1",
   "metadata": {},
   "source": [
    "### Metodologia de sistematização\n",
    "\n",
    "Como vimos acima, o processo de elaboração do Portal de Devolutivas envolveu um intenso trabalho de análise e sistematização dos dados das contribuições recebidas.\n",
    "\n",
    "Nessa seção, descreveremos em mais detalhes a meotodologia empregada neste processo.\n",
    "\n",
    "#### Identificação das sugestões\n",
    "\n",
    "Por \"contribuição\", entendemos todo e qualquer conteúdo recebido a partir das participações dos munícipes e organizações da sociedade civil na etapa participativa do Programa de Metas 2021-2024.\n",
    "\n",
    "Assim, uma contribuição pode ser:\n",
    "\n",
    "* O conteúdo de um documento protocolado como ofício na sede da Prefeitura por uma ONG;\n",
    "* O conteúdo de um anexo em .pdf enviado por e-mail por uma associação de bairro,\n",
    "* O conteúdo de uma fala realizada durante uma das audiências públicas regionais realizadas por SEPEP;\n",
    "* Uma proposta enviada por meio do portal Participe+;\n",
    "\n",
    "Em todos os casos, uma mesma contribuição poderá conter mais de uma sugestão ao Programa de Metas. Essa tendência tende a aumentar sobretudo nas falas realizadas durante as audiências públicas, nas quais os munícipes se esforçaram por expressar todos os seus posicionamentos durante o tempo de fala que tiveram.\n",
    "\n",
    "Um exemplo disto é o trecho abaixo, retirado de uma contribuição feita por um munícipe durante a Audiência Regional de Santa/Tucuruvi ([link para a íntegra](https://devolutiva.pdm.prefeitura.sp.gov.br/?id=29)):\n",
    "\n",
    "> Boa noite a todos, obrigado pela oportunidade(..) Eu gostaria de fazer uma sugestão na área da saúde da Zona Norte. (...) Outra coisa também eu gostaria falar na área de transporte. (...)\n",
    "\n",
    "Como se pode notar, o próprio munícipe reconhece que, em uma mesma contribuição, está enviando duas sugestões distintas, para dois temas distintos: saúde e transportes.\n",
    "\n",
    "Este é um caso \"fácil\", no qual o próprio munícipe reconhece e identifica os temas. Outras contribuições são um pouco mais complexas, contendo sugestões a vários temas de uma vez, sem separá-los. Em todos os casos, houve um trabalho cuidadoso da equipe de SEPEP de não \"deixar passar\" nenhuma sugestão que seja, identificando todas elas e enviando-as à Secretaria responsável para que a pessoa que participou receba sua devolutiva.\n",
    "\n",
    "#### Categorização das sugestões:\n",
    "\n",
    "Neste processo, também categorizamos as sugestões em \"grandes temas\". Essa categorização é importante para podermos entender como as sugestões se distribuem nas grandes áreas de política pública, como \"saúde\" e \"transportes\", conforme o próprio munícipe identificou no exemplo citado acima.\n",
    "\n",
    "As categorias identificadas foram:\n",
    "\n",
    "* Assistência Social\n",
    "* Cultura\n",
    "* Desenvolvimento Econômico e Trabalho\n",
    "* Direitos Humanos e Cidadania\n",
    "* Educação\n",
    "* Esporte e Lazer\n",
    "* Habitação\n",
    "* Infraestrutura Urbana e Obras\n",
    "* Inovação e Tecnologia\n",
    "* Meio Ambiente\n",
    "* Pessoa com Deficiência\n",
    "* Saúde\n",
    "* Segurança Urbana\n",
    "* Transportes e Mobilidade\n",
    "* Urbanismo e Licenciamento\n",
    "* Zeladoria Urbana e melhorias de bairro\n",
    "\n",
    "Além de uma categoria genérica, denominadas \"Outros temas\".\n",
    "\n",
    "\n",
    "#### Vinculaçao com o Programa de Metas\n",
    "\n",
    "A equipe da SEPEP também analisou, para cada sugestão, sua vinculação com o Programa de Metas 2021-2024. Essa vinculação foi feita a nível dos eixos que compõem o programa, nomeadamente:\n",
    "\n",
    "* SP Eficiente\n",
    "* SP Global e Sustentável\n",
    "* SP Inovadora e Criativa\n",
    "* SP Justa e Inclusiva\n",
    "* SP Segura e Bem Cuidada \n",
    "* SP Ágil\n",
    "\n",
    "Para os casos em que não foi possível vincular a sugestão ao programa de metas, essa foi classificada como \"Sem vinculação com o PDM\".\n",
    "\n",
    "#### Regionalização das sugestões:\n",
    "\n",
    "A regionalização das sugestões foi feita por SEPEP a nível de Subprefeitura ([mapa das subprefeituras](https://www.prefeitura.sp.gov.br/cidade/secretarias/subprefeituras/subprefeituras/mapa/index.php?p=250449)), de acordo com a seguinte metodologia, para cada canal de participação:\n",
    "    \n",
    "* <b> Participe+: </b> georreferenciamos os endereços de todos os munícipes cadastrados no sistema que enviaram contribuições ao Programa de Metas. Para preservar seus dados pessoais, os endereços georreferenciados foram então agregados a nível de Subprefeitura.\n",
    "* <b> Audiências Regionais: </b> as sugestões enviadas por meio de falas nas audiências regionais foram consideradas relacionadas à Subprefeitura correspondente à audiência (p. ex., as sugestões da Audiência Regional de São Mateus foram regionalizadas como pertencentes a São Mateus);\n",
    "* <b> Audiêncas Temática, Geral e documentos enviados (e-mails, ofícios etc.): </b> As sugestões recebidas por meio das falas nas demais audiências e também pelo envio de documentos foram analisadas para identificação de possíveis regionalizações a nível de Subprefeitura. Por exemplo, uma fala que mencionou uma ação a ser realizada na Praça da República, que fica no distrito da República, foi regionalizada como Subprefeitura da Sé (pois é a subprefeitura a que esse distrito pertence).\n",
    "    \n",
    "Essa regionalização inicial foi atualizada ao longo das demais etapas de análise e elaboração das devolutivas. Por exemplo, caso um membro da equipe de SEPEP ou mesmo da Secretaria responsável identificasse que uma dada sugestão, apesar de ter sido enviada por um munícipe que reside em Paralheiros, trata de uma ação a ser realizada na Sé (o que é natural: basta imaginarmos que o munícipe trabalha na Sé), a regionalização dessa sugestão seria atualizada de Parelheiros para Sé. Note, portanto, que, mesmo que parte da regionalização tenha se baseado no endereço de origem do munícipe que fez a contribuição, ela em seguida foi desdobrada a nível de <i>sugestão</i>, de modo que sempre que uma dada sugestão identifica uma ação a ser realizada no território, essa sugestão foi regionalizada.\n",
    "\n",
    "Há também os casos em que, por sua natureza, a sugestão não é regionalizável, seja por tratar do município como um todo, seja por tratar de assuntos que não se manifestam tão claramente de forma espacial. Estes casos também foram devidamente identificados.\n",
    "\n",
    "#### Identificação das Secretarias Responsáveis:\n",
    "\n",
    "A categorização das sugestões permitiu a identificação das Secretarias responsáveis. Pois, em geral, há uma relação direta entre a categoria e a secretaria responsável (as secretarias da Prefeitura tendem a se dividir entre essas grandes áreas de políticas públicas). No entanto, há alguns casos de transversalidades, em que uma mesma sugestão é de competência de mais de uma Secretaria. Nestes casos, a Secretaria de Governo atuou em conjunto com as Secretarias responsáveis para coordenar a elaboração das devolutivas. A Secretaria de Governo também ficou responsável por responder todas as sugestões relacionadas diretamente ao processo de elaboração do Programa de Metas, assim como os casos em que não foi possível identificar claramente um órgão responsável na Prefeitura. Dentre esses últimos, estão incluídas algumas raras contribuições que não possuem sugestão clara, e outras nas quais a sugestão é de competência de outro ente da federação (p. ex. o Governo do Estado).\n",
    "\n",
    "Na base de dados, as secretarias foram registradas por suas siglas, conforme abaixo:\n",
    "\n",
    "\n",
    "* CGM: Controladoria Geral do Município\n",
    "* PGM: Procuradoria Geral do Município\n",
    "* SEHAB: Secretaria Municipal de Habitação\n",
    "* SEME: Secretaria Municipal de Esportes e Lazer\n",
    "* SF: Secretaria Municipal da Fazenda\n",
    "* SGM: Secretaria Municipal de Governo\n",
    "* SIURB: Secretaria Municipal de Infraestrutura Urbana e Obras\n",
    "* SMADS: Secretaria Municipal de Assistência e Desenvolvimento Social\n",
    "* SMC: Secretaria Municipal de Cultura\n",
    "* SMDET: Secretaria Municipal de Desenvolvimento Econômico, Trabalho e Turismo\n",
    "* SMDHC: Secretaria Municipal de Direitos Humanos e Cidadania\n",
    "* SME: Secretaria Municipal de Educação\n",
    "* SMIT: Secretaria Municipal de Inovação e Tecnologia\n",
    "* SMPED: Secretaria Municipal da Pessoa com Deficiência\n",
    "* SMRI: Secretaria Municipal de Relações Internacionais\n",
    "* SMS: Secretaria Municipal de Saúde\n",
    "* SMSU: Secretaria Municipal de Segurança Urbana\n",
    "* SMSUB: Secretaria Municipal das Subprefeituras\n",
    "* SMT: Secretaria Municipal de Transportes\n",
    "* SMUL: Secretaria Municipal de Urbanismo e Licenciamento\n",
    "* SVMA: Secretaria Municipal do Verde e do Meio Ambiente\n",
    "\n",
    "\n",
    "\n",
    "#### Identificação dos temas:\n",
    "\n",
    "As sugestões foram então enviadas às Secretarias responsáveis.Elas foram orientadas a ler e analisar <b> cada uma das sugestões recebidas </b> com o intuito de identificar os temas ou assuntos de que elas tratam. Para cada tema identificado, as Secretarias elaboraram uma resposta ou devolutiva.\n",
    "\n",
    "Note que cada Secretaria realizou a classificação em temas de acordo com o rol de sugestões que recebeu e de acordo com critérios próprios. Assim, os temas refletem muito mais uma classificação interna relacionada à organização dos trabalhos, diretrizes e projetos do órgão, além dos assuntos em pauta na área de políticas públicas que a pasta representa, do que uma classificação lógica e coesa de todas as sugestões recebidas.\n",
    "\n",
    "Segue um exemplo hipotético para ilustrar isso: há um tema, elaborado pela Secretaria do Verde e Meio Ambiente, denominado \"Implantação de Parques\", o que faz sentido pois recebemos diversas sugestões sobre isso. Caso o órgão considerasse necessário elaborar uma devolutiva com um texto próprio endereçando uma demanda de criação de um parque em específico, nada o impediria de criar um tema novo apenas para este parque (p. ex. \"Implantação do Parque do Bixiga\"). Mesmo que, logicamente, a \"implantação deste parque específico\" já esteja incluída no tema mais geral \"implantação de parques\".\n",
    "\n",
    "Há muitos temas, de modo que não caberia listá-los aqui. Para que se possa ter uma noção deles, segue abaixo uma amostra aleatória:\n",
    "\n",
    "* Estudo de projeto para o Campo de Marte\n",
    "* Abertura de Concurso Público e Nomeação\n",
    "* Manutenção e gestão dos parques\n",
    "* Apoio a agricultura de base agroecológica e agricultura familiar\n",
    "* Projeto de Intervenção Urbana (PIU) Arco Leste\n",
    "\n",
    "\n",
    "Além destes, cumpre mencionar alguns temas em especial. Trata-se de temas conferidos quando  a sugestão está fora do escopo de atuação do município, sendo de responsabilidade de outro ente da federação (p. ex. os temas \"competência fora do escopo municipal\" e \"Competência Estadual\"). Há também um tema que foi conferido nos raros casos em que a fala realizada não continha nenhuma proposta, denominado \"Sem contribuição específica\". Via de regra, esses casos ocorreram durante as audiências públicas, quando algumas pessoas utilizaram seu tempo de fala para cumprimentar ou elogiar algum político ali presente.\n",
    "\n",
    "\n",
    "\n"
   ]
  },
  {
   "cell_type": "markdown",
   "id": "c00ed2ce-1f84-42d6-8839-42e7bc25d6c9",
   "metadata": {},
   "source": [
    "### Estrutura do banco de dados e dicionário de variáveis\n",
    "\n",
    "\n",
    "Essa metodologia deu origem ao banco de dados que está representado no diagrama abaixo. Vamos descrevê-lo em detalhes em seguida, então não se preocupe se não o compreender a princípio. Além disso, caso você não esteja familiarizado com esse tipo de diagrama, leia a seção abaixo. "
   ]
  },
  {
   "cell_type": "markdown",
   "id": "33c61052-f085-4e8e-9be1-0a3e5a486c78",
   "metadata": {},
   "source": [
    "#### Como ler o diagrama?\n",
    "\n",
    "Antes de entrarmos nos detalhes, segue uma breve explicação de como ler o diagrama (que você pode pular se já conhece esse tipo de diagrama).\n",
    "\n",
    "Trata-se de um Diagrama de Entidade-Relacionamento (ou DER). Nele, cada \"caixa\" representa uma <i>entidade</i>, isto é, um conceito que foi modelado no banco de dados e sobre o qual se deseja registrar informações. A primeira linha em cada caixa representa o nome desta entidade. As linhas seguintes são denominadas <i>atributos</i> e representam os dados, ou variáveis, que se deseja registrar sobre cada entidade. \n",
    "\n",
    "Por exemplo, em um sistema hipotético voltado a atividades de RH, podemos ter a entidade \"Pessoa\" e sobre ela registrar os atributos \"nome\", \"idade\", \"e-mail\" etc.. \"Pessoa\" é portanto um conceito <i>abstrato</i>, que procura modelar uma ideia de \"pessoa\", registrando as informações necessárias para a correta operação do sistema. As pessoas <i>concretas</i> - por exemplo, o autor dessa nota técnica - serão representadas por registros no banco de dados, para os quais os atributos serão preenchidos: \"Henrique Pougy\", 30 anos, \"hpougy@prefeitura.sp.gov.br\".\n",
    "\n",
    "Ao lado do nome de cada atributo está seu tipo de dados. Em nosso exemplo, a idade é tipificada como um número inteiro, que representa os anos de vida da pessoa. O nome, evidentemente, é um texto, assim como o e-mail. Alguns bancos de dados aceitam também tipos de dados complexos, como datas, ou mesmo fazem validações sobre o formato (o que poderia ser feito no caso do atributo \"e-mail\", checando se ele contém um \"@\").\n",
    "\n",
    "As linhas que ligam as entidades entre si são chamadas de <i>relacionamentos</i>. Há bastante conhecimento acadêmico gerado sobre os relacionamentos entre as entidades, e há diversas maneiras de concebê-los. Pois os relacionamentos são um ponto bastante importante ao se construir bancos de dados, e podem afetar bastante a performance e escalabilidade deles se isso não for feito corretamente (segue um [artigo da wikipedia](https://pt.wikipedia.org/wiki/Normaliza%C3%A7%C3%A3o_de_dados) para quem quiser se aprofundar). \n",
    "\n",
    "Mas,para a leitura de nosso diagrama, o que precisamos compreender agora é apenas que um objeto representado por uma entidade pode se relacionar a mais de um objeto representado por outra entidade (conceito chamado de <i>cardinalidade</i>). Isso ficará mais claro se prosseguirmos com nosso exemplo: imagine que temos uma outra entidade que se chama \"Organização\", que possui os atributos \"nome\" e \"endereço\". Essa organização \"emprega\" pessoas, em geral, mais de uma. \n",
    "\n",
    "Como se trata de um sistema de RH, todas as pessoas nele registradas devem estar empregadas. E como são atividades de período inteiro, não aceitamos mais de um vínculo empregatício por pessoa. Assim, neste cenaŕio, podemos dizer que qualquer pessoa sempre estará empregada em uma empresa, ao mesmo tempo em que uma mesma empresa pode empregar mais de uma pessoa. Essa relação, também chamada de \"1 para muitos\" ou \"1 para n\", é a principal relação que encontraremos no banco de dados do Portal de Devolutivas.\n",
    "\n",
    "Vejamos abaixo como nosso exemplo ficaria representado:"
   ]
  },
  {
   "cell_type": "markdown",
   "id": "a6e82b3d-5322-4297-b3c7-634d1d808642",
   "metadata": {},
   "source": [
    "![Exempo DER](exemplo_entidade.png 'Exemplo DER')"
   ]
  },
  {
   "cell_type": "markdown",
   "id": "e93ac6fa-bcea-4838-af87-fa97cb3384c4",
   "metadata": {},
   "source": [
    "#### DER - Estrutura do Banco de dados do Portal de Devolutivas\n",
    "\n",
    "![Diagrama de Entidade Relacionamento do Portal de Devolutivas do PDM 21-24](DER_portal_devolutivas.png \"Processo Devolutivas\")"
   ]
  },
  {
   "cell_type": "markdown",
   "id": "d645e4b8-a403-4b68-ac5a-bd7457ff7b59",
   "metadata": {},
   "source": [
    "### Detalhando o diagrama\n",
    "\n",
    "Observe o Diagrama de Entidade-Relacionamento do Portal de Devolutivas acima. Como se pode ver, ele contempla as informações geradas durante sistematização.\n",
    "\n",
    "Nele estão representadas todas as entidades que vimos até agora: as \"sugestões\", as \"contribuições\", as \"secretarias\" etc. O único ponto de atenção é que, como há uma relação direta entre o Tema e a Devolutiva (um único tema dará origem a uma e apenas uma devolutiva), as devolutivas foram registradas como atributos da entidade Tema, ao invés de serem uma entidade separada.\n",
    "\n",
    "Abaixo, detalhamos essas entidades e seus atributos (apresentando o dicionário de variáveis). Por economia de texto, não mencionaremos os atributos de <i>id</i>, que consistem em valores numéricos inteiros que identificam unicamente um dado objeto (como um CPF representa unicamente uma pessoa). Os campos que se iniciam com <i>fk_\"nome_de_uma_entidade\"</i> são chaves-estrangeiras, ou \"ids\" de outros objetos. Eles representam uma relação entre um objeto concreto representado pela entidade e um objeto concreto representado pela entidade cujo nome está da chave-estrangeira: como quando em nossa carteira de trabalho há o CNPJ da empresa que nos contratou (para mantermos o exemplo da seção anterior).\n",
    "\n",
    "### Dicionário de Variáveis\n",
    "\n",
    "#### <b>Canal</b>\n",
    "\n",
    "Representa os canais de participação para a etapa participativa do Programa de Metas 2021-2024.\n",
    "\n",
    "<b>atributos:</b>\n",
    "* nome: nome do canal\n",
    "* introducao: texto endereçado ao munícipe que fez a contribuição por aquele canal\n",
    "\n",
    "<b>exemplo:</b>\n",
    "* nome: Audiência Geral\n",
    "* introducao: \"Você participou da audiência pública Geral no dia 10/04/2021 às 14h-16h30. Aqui estão as nossas considerações à sua contribuição\"\n",
    "\n",
    "<b>relacionamentos</b>\n",
    "* 1:n - Um <i>Canal</i> pode conter mais de uma <i>Contribuição</i>\n",
    "\n",
    "#### <b>Contribuição</b>\n",
    "\n",
    "Representa as contribuições enviadas (ver metodologia para mais informações)\n",
    "\n",
    "<b>atributos</b>\n",
    "* nomeMunícipe: nome do munícipe ou organização que enviou a contribuição\n",
    "* íntegra: texto (ou transcrição) na íntegra da contribuição enviada\n",
    "\n",
    "<b>exemplo:</b>\n",
    "* nomeMunícipe: Henrique Pougy\n",
    "* íntegra: \"Incluir no Plano de Metas 2021-2024 o projeto de criação da área de Ciência de Dados e Analytics da Prefeitura\"\n",
    "\n",
    "<b>relacionamentos</b>\n",
    "* n:1 - Uma <i>Contribuição</i> está contida em um <i>Canal</i>\n",
    "* 1:n - Uma <i>Contribuição</i> pode conter mais de uma <i>Sugestão</i>\n",
    "\n",
    "\n",
    "#### <b>Subprefeitura</b>\n",
    "\n",
    "Representa as Subprefeituras do município de São Paulo\n",
    "\n",
    "<b>atributos</b>\n",
    "* nome: nome da Subprefeitura\n",
    "\n",
    "<b>exemplo:</b>\n",
    "* nome: São Mateus\n",
    "\n",
    "<b>relacionamentos</b>\n",
    "* 1:n - Uma <i>Subprefeitura</i> pode conter mais de uma <i>Sugestão</i>\n",
    "\n",
    "#### <b>Sugestão</b>\n",
    "\n",
    "Representa as sugestões ao PDM identificadas pela equipe de SEPEP nas contribuições enviadas\n",
    "\n",
    "<b>atributos</b>\n",
    "* conteudo: trecho ou paráfrase da contribuição original em que se identificou a sugestão\n",
    "\n",
    "<b>exemplo:</b>\n",
    "* conteudo: Criar área de Ciência de Dados e Analytics na Prefeitura\n",
    "\n",
    "<b>relacionamentos</b>\n",
    "* n:1 - Uma <i>Sugestão</i> está contida em uma <i>Subprefeitura</i>\n",
    "* n:1 - Uma <i>Sugestão</i> está contida em uma <i>Contribuição</i>\n",
    "* n:1 - Uma <i>Sugestão</i> está vinculada a um <i>Tema</i>\n",
    "\n",
    "\n",
    "#### <b>Categoria</b>\n",
    "\n",
    "Representa as grandes áreas de política pública\n",
    "\n",
    "<b>atributos</b>\n",
    "* nome: nome da Categoria\n",
    "\n",
    "<b>exemplo:</b>\n",
    "* nome: Saúde\n",
    "\n",
    "<b>relacionamentos</b>\n",
    "* 1:n - Uma <i>Categoria</i> pode conter mais de um <i>Tema</i>\n",
    "\n",
    "\n",
    "#### <b>Secretaria</b>\n",
    "\n",
    "Representa as Secretarias que compõem a Prefeitura Municipal de São Paulo.\n",
    "(para ver os nomes completos das secretarias, veja a seção anterior).\n",
    "\n",
    "<b>atributos</b>\n",
    "* sigla: sigla da Secretaria \n",
    "\n",
    "<b>exemplo:</b>\n",
    "* nome: SVMA\n",
    "\n",
    "<b>relacionamentos</b>\n",
    "* 1:n - Uma <i>Secretaria</i> pode conter mais de um <i>Tema</i>\n",
    "\n",
    "\n",
    "#### <b>Eixo</b>\n",
    "\n",
    "Representa os Eixos Temáticos do Programa de Metas 2021-2024.\n",
    "\n",
    "\n",
    "<b>atributos</b>\n",
    "* nome: nome do eixo \n",
    "\n",
    "<b>exemplo:</b>\n",
    "* nome: SP Global e Sustentável\n",
    "\n",
    "<b>relacionamentos</b>\n",
    "* 1:n - Um <i>Eixo</i> pode conter mais de um <i>Tema</i>\n",
    "\n",
    "\n",
    "#### <b>Tema</b>\n",
    "\n",
    "Representa as temáticas identificadas pelas Secretarias responsáveis para cada sugestão (para mais informações, ver metodologia).\n",
    "\n",
    "\n",
    "<b>atributos</b>\n",
    "* nome: identificação do Tema\n",
    "* devolutiva: devolutiva à população elaborada pela Secretaria para aquele Tema\n",
    "\n",
    "<b>exemplo:</b>\n",
    "* nome: Manutenção e gestão dos parques\n",
    "* devolutiva: A Prefeitura de São Paulo agradece a contribuição e esclarece que, por meio da Secretaria Municipal do Verde e Meio Ambiente, possui 109 parques municipais abertos e/ou disponíveis ao público em geral sob sua responsabilidade. Nos últimos sete anos, oito parques municipais foram implantados e a Meta 62 do Programa de Metas 2021 - 2024 prevê a implantação de mais oito até o final da gestão. A previsão de recursos para manutenção e implementação de melhorias para a gestão dos parques municipais será apontada no Plano Plurianual 2022 - 2025.\n",
    "\n",
    "<b>relacionamentos</b>\n",
    "* 1:n - Um <i>Tema</i> pode conter mais de uma <i>Sugestão</i>\n",
    "* n:1 - Um <i>Tema</i> está vinculado a um <i>Eixo</i>\n",
    "* n:1 - Um <i>Tema</i> está vinculado a uma <i>Secretaria</i>\n",
    "* n:1 - Um <i>Tema</i> está vinculado a uma <i>Categoria</i>\n",
    "\n"
   ]
  },
  {
   "cell_type": "markdown",
   "id": "3b7804bf-979a-4f86-8a6f-6bb6d91f5223",
   "metadata": {},
   "source": [
    "### Fim da Primeira Parte\n",
    "\n",
    "Assim, concluímos a primeira parte desta nota técnica.\n",
    "\n",
    "Nela, descrevemos o processo e a metodologia de sistematização das devolutivas elaboradas pela Prefeitura de São Paulo para as sugestões enviadas pela sociedade civil durante a etapa participativa do Programa de Metas 2021-2024. E apresentamos em detalhes os dados constantes no banco de dados do Portal de Devolutivas.\n",
    "\n",
    "Com isso, é possível compreender com clareza a origem e o teor das informações disponibilizadas pelo Portal de Devolutivas e por sua API.\n",
    "\n",
    "Na seção a seguir, focaremos nos aspectos mais técnicos da API e em um tutorial de como utilizá-la.\n"
   ]
  },
  {
   "cell_type": "markdown",
   "id": "60ea9f2c-8986-4908-8b6d-46bca3a6383b",
   "metadata": {},
   "source": [
    "### Motivação - por quê construir uma API?"
   ]
  },
  {
   "cell_type": "code",
   "execution_count": null,
   "id": "ddd0dc3b-f75a-4651-ba75-80b14325e9c5",
   "metadata": {},
   "outputs": [],
   "source": []
  },
  {
   "cell_type": "code",
   "execution_count": 1,
   "id": "103680c3-17b3-4db7-a81b-b1c07fcb3e97",
   "metadata": {},
   "outputs": [],
   "source": [
    "import sqlite3\n",
    "from sqlite3 import IntegrityError\n",
    "import os\n",
    "import pandas as pd"
   ]
  },
  {
   "cell_type": "code",
   "execution_count": 2,
   "id": "72b9819c-e0c8-4cc5-abea-22025b082778",
   "metadata": {},
   "outputs": [],
   "source": [
    "class SistemaMercearia:\n",
    "    \n",
    "    coluna_itens = 'verdura'\n",
    "    \n",
    "    def __init__(self):\n",
    "        \n",
    "        self.banco_de_dados = self.conectar_banco_de_dados()\n",
    "        \n",
    "    def conectar_banco_de_dados(self):\n",
    "        '''Faz a conexão ao banco de dados do sistema'''\n",
    "        \n",
    "        if 'mercearia.db' in os.listdir('.'):\n",
    "            banco_de_dados = sqlite3.connect('mercearia.db')\n",
    "        else:\n",
    "            banco_de_dados = self.criar_banco_de_dados()\n",
    "            \n",
    "        print('Conectado ao banco de dados')\n",
    "        return banco_de_dados\n",
    "        \n",
    "        \n",
    "    def criar_banco_de_dados(self):\n",
    "        '''Cria a estrutura do banco de dados do sistema, se ele já não existe.'''\n",
    "    \n",
    "        banco_de_dados = sqlite3.connect('mercearia.db')\n",
    "        \n",
    "        administrador = banco_de_dados.cursor()\n",
    "        \n",
    "        administrador.execute(f'''\n",
    "        CREATE TABLE IF NOT EXISTS verduras \n",
    "                   (\n",
    "                   verdura text unique, \n",
    "                   quantidade intenger, \n",
    "                   preco_unitario decimal);''')\n",
    "\n",
    "        banco_de_dados.commit()\n",
    "        administrador.close()\n",
    "        \n",
    "        print('Banco de dados criado')\n",
    "\n",
    "        return banco_de_dados\n",
    "    \n",
    "    \n",
    "    def cadastrar_item(self, nom_verdura, preco):\n",
    "        '''Cadastra um novo item de estoque no sistema'''\n",
    "    \n",
    "        usuario = self.banco_de_dados.cursor()\n",
    "        try:\n",
    "            usuario.execute(f'''INSERT INTO verduras ({self.coluna_itens}, quantidade, preco_unitario) \n",
    "            VALUES(?, 0, ?)''', (nom_verdura, preco))\n",
    "\n",
    "            self.banco_de_dados.commit()\n",
    "            print(f'Item {nom_verdura} cadastrado com sucesso!')\n",
    "        except IntegrityError:\n",
    "            print(f'Item {nom_verdura} já cadastrado!')\n",
    "            usuario.close()\n",
    "            \n",
    "            \n",
    "    def atualizar_estoque(self, nom_verdura, quantidade):\n",
    "        '''Atualiza a quantidade de um item de estoque no sistema,\n",
    "        acrescentando os novos itens adquiridos ao estoque'''\n",
    "    \n",
    "        usuario = self.banco_de_dados.cursor()\n",
    "\n",
    "        usuario.execute(f'''\n",
    "        UPDATE verduras SET quantidade = quantidade + ? WHERE {self.coluna_itens} = ?\n",
    "        ''', (quantidade, nom_verdura))\n",
    "\n",
    "        self.banco_de_dados.commit()\n",
    "        usuario.close()\n",
    "\n",
    "        print(f'Estoque do item {nom_verdura} atualizado com sucesso')\n",
    "        \n",
    "        \n",
    "    def registrar_venda(self, nom_verdura, quantidade):\n",
    "        '''Registra um venda no sistema, removendo a quantidade vendida do estoque'''\n",
    "    \n",
    "        usuario = self.banco_de_dados.cursor()\n",
    "\n",
    "        usuario.execute(f'''\n",
    "        UPDATE verduras SET quantidade = quantidade - ? WHERE {self.coluna_itens} = ?\n",
    "        ''', (quantidade, nom_verdura))\n",
    "\n",
    "        self.banco_de_dados.commit()\n",
    "        usuario.close()\n",
    "\n",
    "        print(f'Venda de {quantidade} unidades do item {nom_verdura} registrada com sucesso')\n",
    "        \n",
    "    def verificar_estoque(self, nom_verdura):\n",
    "        '''Verifica o estoque de um determinado item. \n",
    "        Caso se escolha por \"todos\", informa o estoque de todos os itens.'''\n",
    "    \n",
    "        usuario = self.banco_de_dados.cursor()\n",
    "        \n",
    "        if nom_verdura == \"todos\":\n",
    "            \n",
    "            dados = usuario.execute(f'''\n",
    "            SELECT {self.coluna_itens}, quantidade, preco_unitario from verduras''')\n",
    "            \n",
    "        else:\n",
    "            dados = usuario.execute(f'''\n",
    "                SELECT {self.coluna_itens}, quantidade, preco_unitario from verduras WHERE {self.coluna_itens} = ?\n",
    "                ''', (nom_verdura,))\n",
    "        dados = list(dados)\n",
    "        usuario.close()\n",
    "\n",
    "        return pd.DataFrame(dados, columns = ('verdura', 'quantidade', 'preco'))"
   ]
  },
  {
   "cell_type": "code",
   "execution_count": 3,
   "id": "6c199180-a1ac-4d20-8831-39086493c407",
   "metadata": {},
   "outputs": [
    {
     "name": "stdout",
     "output_type": "stream",
     "text": [
      "Conectado ao banco de dados\n"
     ]
    }
   ],
   "source": [
    "sistema = SistemaMercearia()"
   ]
  },
  {
   "cell_type": "code",
   "execution_count": 4,
   "id": "709de8e5-4b53-466d-9014-75ff0a384667",
   "metadata": {},
   "outputs": [
    {
     "ename": "OperationalError",
     "evalue": "table verduras has no column named verdura",
     "output_type": "error",
     "traceback": [
      "\u001b[0;31m---------------------------------------------------------------------------\u001b[0m",
      "\u001b[0;31mOperationalError\u001b[0m                          Traceback (most recent call last)",
      "\u001b[0;32m<ipython-input-4-4d75af8d0ad0>\u001b[0m in \u001b[0;36m<module>\u001b[0;34m\u001b[0m\n\u001b[0;32m----> 1\u001b[0;31m \u001b[0msistema\u001b[0m\u001b[0;34m.\u001b[0m\u001b[0mcadastrar_item\u001b[0m\u001b[0;34m(\u001b[0m\u001b[0;34m'alface'\u001b[0m\u001b[0;34m,\u001b[0m \u001b[0;36m3.50\u001b[0m\u001b[0;34m)\u001b[0m\u001b[0;34m\u001b[0m\u001b[0;34m\u001b[0m\u001b[0m\n\u001b[0m\u001b[1;32m      2\u001b[0m \u001b[0msistema\u001b[0m\u001b[0;34m.\u001b[0m\u001b[0matualizar_estoque\u001b[0m\u001b[0;34m(\u001b[0m\u001b[0;34m'alface'\u001b[0m\u001b[0;34m,\u001b[0m \u001b[0;36m20\u001b[0m\u001b[0;34m)\u001b[0m\u001b[0;34m\u001b[0m\u001b[0;34m\u001b[0m\u001b[0m\n",
      "\u001b[0;32m<ipython-input-2-cfe634efdde2>\u001b[0m in \u001b[0;36mcadastrar_item\u001b[0;34m(self, nom_verdura, preco)\u001b[0m\n\u001b[1;32m     46\u001b[0m         \u001b[0musuario\u001b[0m \u001b[0;34m=\u001b[0m \u001b[0mself\u001b[0m\u001b[0;34m.\u001b[0m\u001b[0mbanco_de_dados\u001b[0m\u001b[0;34m.\u001b[0m\u001b[0mcursor\u001b[0m\u001b[0;34m(\u001b[0m\u001b[0;34m)\u001b[0m\u001b[0;34m\u001b[0m\u001b[0;34m\u001b[0m\u001b[0m\n\u001b[1;32m     47\u001b[0m         \u001b[0;32mtry\u001b[0m\u001b[0;34m:\u001b[0m\u001b[0;34m\u001b[0m\u001b[0;34m\u001b[0m\u001b[0m\n\u001b[0;32m---> 48\u001b[0;31m             usuario.execute(f'''INSERT INTO verduras ({self.coluna_itens}, quantidade, preco_unitario) \n\u001b[0m\u001b[1;32m     49\u001b[0m             VALUES(?, 0, ?)''', (nom_verdura, preco))\n\u001b[1;32m     50\u001b[0m \u001b[0;34m\u001b[0m\u001b[0m\n",
      "\u001b[0;31mOperationalError\u001b[0m: table verduras has no column named verdura"
     ]
    }
   ],
   "source": [
    "sistema.cadastrar_item('alface', 3.50)\n",
    "sistema.atualizar_estoque('alface', 20)"
   ]
  },
  {
   "cell_type": "code",
   "execution_count": null,
   "id": "d6b0963b-d809-4e43-b41c-d5acd33b9175",
   "metadata": {},
   "outputs": [],
   "source": [
    "sistema.cadastrar_item('banana', 1)\n",
    "sistema.atualizar_estoque('banana', 12)"
   ]
  },
  {
   "cell_type": "code",
   "execution_count": null,
   "id": "b5d2da4c-b09f-499e-b614-da2591f07b4d",
   "metadata": {},
   "outputs": [],
   "source": [
    "sistema.cadastrar_item('rucula', 5)\n",
    "sistema.atualizar_estoque('rucula', 8)"
   ]
  },
  {
   "cell_type": "code",
   "execution_count": null,
   "id": "0eab050b-23b4-4285-a7d9-548fe37660f9",
   "metadata": {},
   "outputs": [],
   "source": [
    "sistema.verificar_estoque('banana')"
   ]
  },
  {
   "cell_type": "code",
   "execution_count": null,
   "id": "6599bc22-8c47-4f75-926c-aa9e4342cc63",
   "metadata": {},
   "outputs": [],
   "source": [
    "sistema.registrar_venda('banana', 6)"
   ]
  },
  {
   "cell_type": "code",
   "execution_count": null,
   "id": "26499669-47ea-4ca0-80ae-18b6391e4dcd",
   "metadata": {},
   "outputs": [],
   "source": [
    "sistema.verificar_estoque('banana')"
   ]
  },
  {
   "cell_type": "code",
   "execution_count": null,
   "id": "b5a05286-a6e7-4f28-a420-d908fc36dca5",
   "metadata": {},
   "outputs": [],
   "source": [
    "sistema.verificar_estoque('todos')"
   ]
  },
  {
   "cell_type": "code",
   "execution_count": null,
   "id": "7745179b-d118-40e2-abe4-3fe9d5708553",
   "metadata": {},
   "outputs": [],
   "source": [
    "import plotly.express as px\n",
    "import pandas as pd\n",
    "import plotly.io as pio\n",
    "#pio.renderers.default='iframe'"
   ]
  },
  {
   "cell_type": "code",
   "execution_count": null,
   "id": "c27d5fcf-8c5f-438c-a553-2cf0bf6e5699",
   "metadata": {},
   "outputs": [],
   "source": [
    "class sistemaBI:\n",
    "    \n",
    "    def __init__(self):\n",
    "        \n",
    "        self.conexao_banco = self.conectar_banco()\n",
    "        \n",
    "    def conectar_banco(self):\n",
    "        \n",
    "        return sqlite3.connect('mercearia.db')\n",
    "\n",
    "    \n",
    "    def buscar_dados(self):\n",
    "        \n",
    "        user_sistema_BI = self.conexao_banco.cursor()\n",
    "        dados = list(user_sistema_BI.execute('SELECT verdura, quantidade, preco_unitario FROM verduras'))\n",
    "        \n",
    "        dados = pd.DataFrame(dados, columns = ('verdura', 'quantidade', 'preco'))\n",
    "        \n",
    "        return dados\n",
    "    \n",
    "    def plotar_grafico(self):\n",
    "        \n",
    "        dados = self.buscar_dados()\n",
    "        \n",
    "        fig = px.bar(dados, x=dados['verdura'], y=dados['quantidade'],\n",
    "            title = 'Estoque da Mercearia do seu Maurício', color='preco',\n",
    "                    color_continuous_scale = 'Greens')\n",
    "        fig.show()"
   ]
  },
  {
   "cell_type": "code",
   "execution_count": null,
   "id": "38efd6b5-7bbc-4a36-9dad-47fd5ed15e14",
   "metadata": {},
   "outputs": [],
   "source": [
    "business_inteligence = sistemaBI()"
   ]
  },
  {
   "cell_type": "code",
   "execution_count": null,
   "id": "2e1544bd-95a4-4f0b-b150-054df3d8ec37",
   "metadata": {},
   "outputs": [],
   "source": [
    "business_inteligence.plotar_grafico()"
   ]
  },
  {
   "cell_type": "code",
   "execution_count": null,
   "id": "fa1d5dd3-abc6-458f-aeb6-cd7715a5a573",
   "metadata": {},
   "outputs": [],
   "source": [
    "banco_de_dados = sqlite3.connect('mercearia.db')"
   ]
  },
  {
   "cell_type": "code",
   "execution_count": null,
   "id": "5cdba3ec-71be-44a5-909c-7c50ac6962ea",
   "metadata": {},
   "outputs": [],
   "source": [
    "admin = banco_de_dados.cursor()"
   ]
  },
  {
   "cell_type": "code",
   "execution_count": null,
   "id": "5cdd7a94-01c3-4387-96f1-a58a54c7c07d",
   "metadata": {},
   "outputs": [],
   "source": [
    "admin.execute('''\n",
    "    ALTER TABLE verduras RENAME COLUMN verdura TO item\n",
    "''')"
   ]
  },
  {
   "cell_type": "code",
   "execution_count": null,
   "id": "51436e49-1a2f-4cc5-98ec-f51dc9836d8c",
   "metadata": {},
   "outputs": [],
   "source": [
    "banco_de_dados.commit()"
   ]
  },
  {
   "cell_type": "code",
   "execution_count": null,
   "id": "daa5596b-d8c7-45b3-b364-beef6ff8ba92",
   "metadata": {},
   "outputs": [],
   "source": [
    "sistema.verificar_estoque('todos')"
   ]
  },
  {
   "cell_type": "code",
   "execution_count": null,
   "id": "9bca5048-4f00-47ae-95cf-91ea21bb1480",
   "metadata": {},
   "outputs": [],
   "source": [
    "sistema.coluna_itens = 'item'"
   ]
  },
  {
   "cell_type": "code",
   "execution_count": null,
   "id": "5c48d4b2-897d-4d97-801d-c169c4b7b753",
   "metadata": {},
   "outputs": [],
   "source": [
    "sistema.verificar_estoque('todos')"
   ]
  },
  {
   "cell_type": "code",
   "execution_count": null,
   "id": "3ed5bcb5-d196-4a8d-9c42-d533412a0545",
   "metadata": {},
   "outputs": [],
   "source": [
    "business_inteligence.plotar_grafico()"
   ]
  },
  {
   "cell_type": "code",
   "execution_count": null,
   "id": "784b47b0-40c0-4804-8b18-05232482bc99",
   "metadata": {},
   "outputs": [],
   "source": [
    "from functools import partial"
   ]
  },
  {
   "cell_type": "code",
   "execution_count": null,
   "id": "c70bcd98-c7ff-4638-9297-0b84169b7cb6",
   "metadata": {},
   "outputs": [],
   "source": [
    "business_inteligence.buscar_dados = partial(sistema.verificar_estoque, nom_verdura='todos')"
   ]
  },
  {
   "cell_type": "code",
   "execution_count": null,
   "id": "db5d10b3-c5e3-47e5-bbe7-700ae60aff23",
   "metadata": {},
   "outputs": [],
   "source": [
    "business_inteligence.plotar_grafico()"
   ]
  },
  {
   "cell_type": "code",
   "execution_count": null,
   "id": "3eea57bb-553b-47e8-8369-a6ef7b5b611a",
   "metadata": {},
   "outputs": [],
   "source": [
    "import requests"
   ]
  },
  {
   "cell_type": "code",
   "execution_count": null,
   "id": "814e8e6d-b262-46e0-aee8-51695ceac94a",
   "metadata": {},
   "outputs": [],
   "source": [
    "temas = set()\n",
    "\n",
    "for i in range(1, 4500):\n",
    "    \n",
    "    with requests.get(f'https://devolutiva.pdm.prefeitura.sp.gov.br/api/v1/contribuicao/{i}') as r:\n",
    "        resp = r.json()\n",
    "        for sugestao in resp['sugestoes']:\n",
    "            temas.add(sugestao['tema']['nome'])"
   ]
  },
  {
   "cell_type": "code",
   "execution_count": null,
   "id": "4d09a68c-0250-4324-84fd-987dc5bce611",
   "metadata": {},
   "outputs": [],
   "source": [
    "import random"
   ]
  },
  {
   "cell_type": "code",
   "execution_count": null,
   "id": "9fa67321-422a-437d-a421-9283e65868c5",
   "metadata": {},
   "outputs": [],
   "source": [
    "temas = list(temas)"
   ]
  },
  {
   "cell_type": "code",
   "execution_count": null,
   "id": "19022391-d4ff-4e37-865a-60de11204f40",
   "metadata": {},
   "outputs": [],
   "source": [
    "random.sample(temas, 5)"
   ]
  },
  {
   "cell_type": "code",
   "execution_count": null,
   "id": "6d1d7a08-d76e-4528-b634-b022dada0609",
   "metadata": {},
   "outputs": [],
   "source": [
    "[tema for tema in temas if 'parque' in tema.lower()]"
   ]
  },
  {
   "cell_type": "code",
   "execution_count": null,
   "id": "86599cfb-3aeb-4cc8-91e2-5e427650580f",
   "metadata": {},
   "outputs": [],
   "source": [
    "temas"
   ]
  },
  {
   "cell_type": "code",
   "execution_count": null,
   "id": "fcc0dec0-a1eb-46cd-a6c1-2c2afd4a3b84",
   "metadata": {},
   "outputs": [],
   "source": [
    "'Reclamação sobre seccionamento de linhas em Santana'"
   ]
  },
  {
   "cell_type": "code",
   "execution_count": null,
   "id": "f37e88e3-255a-4b93-8732-879a362be446",
   "metadata": {},
   "outputs": [],
   "source": []
  }
 ],
 "metadata": {
  "kernelspec": {
   "display_name": "Python 3",
   "language": "python",
   "name": "python3"
  },
  "language_info": {
   "codemirror_mode": {
    "name": "ipython",
    "version": 3
   },
   "file_extension": ".py",
   "mimetype": "text/x-python",
   "name": "python",
   "nbconvert_exporter": "python",
   "pygments_lexer": "ipython3",
   "version": "3.8.8"
  }
 },
 "nbformat": 4,
 "nbformat_minor": 5
}
